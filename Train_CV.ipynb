{
 "cells": [
  {
   "cell_type": "code",
   "execution_count": 1,
   "metadata": {
    "ExecuteTime": {
     "end_time": "2020-01-14T13:40:44.413625Z",
     "start_time": "2020-01-14T13:40:37.940801Z"
    }
   },
   "outputs": [],
   "source": [
    "import pickle\n",
    "import io\n",
    "import gensim\n",
    "import nltk\n",
    "import numpy as np\n",
    "import pickle\n",
    "import matplotlib.pyplot as plt\n",
    "\n",
    "from collections import Counter\n",
    "\n",
    "from gensim.test.utils import get_tmpfile\n",
    "from gensim.models import KeyedVectors\n",
    "\n",
    "from math import*\n",
    "from nltk.stem.porter import *\n",
    "from nltk.corpus import wordnet as wn\n",
    "\n",
    "from sklearn.metrics import r2_score, mean_squared_error, make_scorer\n",
    "from sklearn.model_selection  import KFold, cross_val_score\n",
    "from sklearn import svm\n",
    "from sklearn import datasets, linear_model, model_selection, NuSVR\n",
    "\n",
    "from scipy.stats import pearsonr\n",
    "from scipy.stats import spearmanr\n",
    "from scipy.spatial.distance import jaccard\n",
    "from scipy.stats import kendalltau\n",
    "\n",
    "model_name=\"ft\"\n",
    "\n",
    "feature_vector={\n",
    "    \"emb\":True,\n",
    "    \"Suffix\":True,\n",
    "    \"POS\":True\n",
    "}\n",
    "\n",
    "from IPython.display import Audio\n",
    "sound_file = 'tpir-dings.mp3'"
   ]
  },
  {
   "cell_type": "markdown",
   "metadata": {},
   "source": [
    "# FastText"
   ]
  },
  {
   "cell_type": "code",
   "execution_count": 3,
   "metadata": {
    "ExecuteTime": {
     "end_time": "2020-01-14T14:20:09.442492Z",
     "start_time": "2020-01-14T13:41:19.893067Z"
    }
   },
   "outputs": [],
   "source": [
    "def load_vectors(fname):\n",
    "    reloaded_word_vectors = KeyedVectors.load_word2vec_format(fname)\n",
    "    return reloaded_word_vectors\n",
    "\n",
    "# Load pretrained word2vec model\n",
    "model=load_vectors(\"D:\\\\PhD\\\\fastText_Embeddings\\\\crawl-300d-2M-subword.vec\")\n"
   ]
  },
  {
   "cell_type": "markdown",
   "metadata": {},
   "source": [
    "# Helper"
   ]
  },
  {
   "cell_type": "code",
   "execution_count": 4,
   "metadata": {
    "ExecuteTime": {
     "end_time": "2020-01-14T14:58:18.094058Z",
     "start_time": "2020-01-14T14:58:18.061269Z"
    }
   },
   "outputs": [],
   "source": [
    "with open('most_common_ending.pkl', 'rb') as f:\n",
    "    most_common_ending = pickle.load(f)\n",
    "with open('most_common_porter.pkl', 'rb') as f:\n",
    "    most_common_porter = pickle.load(f)"
   ]
  },
  {
   "cell_type": "code",
   "execution_count": 5,
   "metadata": {
    "ExecuteTime": {
     "end_time": "2020-01-14T14:58:19.395711Z",
     "start_time": "2020-01-14T14:58:19.377728Z"
    }
   },
   "outputs": [],
   "source": [
    "def getAllPostfix(s):\n",
    "    if len(s)>3:\n",
    "        return [s[-1:],s[-2:],s[-3:],s[-4:]]\n",
    "    elif len(s)==3:\n",
    "        return [s[-1:],s[-2:],s[-3:]]\n",
    "    elif len(s)==2:\n",
    "        return [s[-1:],s[-2:]]\n",
    "    elif len(s)==1:\n",
    "        return [s]\n",
    "    else:\n",
    "        return [\"\"]\n",
    "\n",
    "def getPostfixVec(s,mc,dim=100):\n",
    "    vec=[0]*dim\n",
    "    Post=getAllPostfix(s)\n",
    "    #Post=Func(s)\n",
    "    for i in range(dim):\n",
    "        if mc[i] in Post:\n",
    "            vec[i]=1\n",
    "    return vec\n",
    "\n",
    "def getPorterVec(s,mc,dim=150):\n",
    "    vec=[0]*dim\n",
    "    Post=getPorterRest(s)\n",
    "    print(mc)\n",
    "    for i in range(dim):\n",
    "        if mc[i] == Post:\n",
    "            vec[i]=1\n",
    "    return vec\n",
    "    \n",
    "endingDir={}\n",
    "endingList=[]"
   ]
  },
  {
   "cell_type": "code",
   "execution_count": 6,
   "metadata": {
    "ExecuteTime": {
     "end_time": "2020-01-14T14:58:32.435578Z",
     "start_time": "2020-01-14T14:58:20.626247Z"
    }
   },
   "outputs": [],
   "source": [
    "stemmer = PorterStemmer()\n",
    "def getPorterRest(s):\n",
    "    stem=stemmer.stem(s)\n",
    "    ret=\"\"\n",
    "    for k in range(len(s)-len(stem)):\n",
    "        ret+=(s[len(stem)+k])\n",
    "    return ret\n",
    "porterList=[]"
   ]
  },
  {
   "cell_type": "code",
   "execution_count": 7,
   "metadata": {
    "ExecuteTime": {
     "end_time": "2020-01-14T14:58:32.497175Z",
     "start_time": "2020-01-14T14:58:32.487548Z"
    }
   },
   "outputs": [],
   "source": [
    "def getVecFromPos(s):\n",
    "    vec=[]\n",
    "    if s=='a':\n",
    "        vec=[1,0,0,0,0,0]\n",
    "    if s=='n':\n",
    "        vec=[0,1,0,0,0,0]\n",
    "    if s=='p':\n",
    "        vec=[0,0,1,0,0,0]\n",
    "    if s=='r':\n",
    "        vec=[0,0,0,1,0,0]\n",
    "    if s=='s':\n",
    "        vec=[0,0,0,0,1,0]\n",
    "    if s=='v':\n",
    "        vec=[0,0,0,0,0,1]\n",
    "    return vec#np.asarray(vec)        "
   ]
  },
  {
   "cell_type": "code",
   "execution_count": 8,
   "metadata": {
    "ExecuteTime": {
     "end_time": "2020-01-14T14:58:32.576049Z",
     "start_time": "2020-01-14T14:58:32.552597Z"
    }
   },
   "outputs": [],
   "source": [
    "def getPos(w):\n",
    "    poss=[] \n",
    "    posSum=0\n",
    "    posfreqs = {'n':0,'v':0,'a':0,'p':0,'r':0,'s':0}\n",
    "    found=False\n",
    "    for syns in wn.synsets(w):\n",
    "        p = syns.pos()\n",
    "        if p not in poss:\n",
    "            poss.append(p)\n",
    "        count = posfreqs.get(p,0)\n",
    "        for l in syns.lemmas():\n",
    "            count += l.count()\n",
    "            if count>0:\n",
    "                found=True\n",
    "        posfreqs[p] = count\n",
    "    if found:\n",
    "        for fr in posfreqs:\n",
    "            posSum+=posfreqs[fr]\n",
    "        pos=[posfreqs['n']/posSum,posfreqs['v']/posSum,posfreqs['a']/posSum,posfreqs['p']/posSum,posfreqs['r']/posSum,posfreqs['s']/posSum]\n",
    "    else:\n",
    "        tags = nltk.pos_tag([w])\n",
    "        tag = tags[0][1]\n",
    "        if tag[0] == 'R':\n",
    "            pos = 'r'\n",
    "            pos=[0,0,0,0,1,0]\n",
    "        elif tag[0] == 'J':\n",
    "            pos = 'a'\n",
    "            pos=[0,0,1,0,0,0]\n",
    "        elif tag[0] == 'V':\n",
    "            pos = 'v'\n",
    "            pos=[0,1,0,0,0,0]\n",
    "        elif tag == 'IN':\n",
    "            pos = 'p'\n",
    "            pos=[0,0,0,1,0,0]\n",
    "        else:\n",
    "            pos = 'n'\n",
    "            pos=[1,0,0,0,0,0]\n",
    "    return pos\n",
    "\n",
    "\n",
    "def transformScale(old_value, old_min = 1, old_max = 7, new_min = 1, new_max = 5):\n",
    "    new_value = ( (old_value - old_min) / (old_max - old_min) ) * (new_max - new_min) + new_min\n",
    "    if new_value>new_max:\n",
    "        print(\"new_value > max\")\n",
    "    return new_value"
   ]
  },
  {
   "cell_type": "code",
   "execution_count": 9,
   "metadata": {
    "ExecuteTime": {
     "end_time": "2020-01-14T14:58:35.749437Z",
     "start_time": "2020-01-14T14:58:35.732776Z"
    }
   },
   "outputs": [],
   "source": [
    "def jaccard_similarity(x,y,verbose=0):\n",
    "  \n",
    "    intersection_cardinality = len(set.intersection(*[set(x), set(y)]))\n",
    "    union_cardinality = len(set.union(*[set(x), set(y)]))\n",
    "    if verbose>0:\n",
    "        print(\"\\n Intersection Cardinality: \"+str(intersection_cardinality))\n",
    "        print(\"Unity Cardinality: \"+str(union_cardinality))\n",
    "        print(\"\\n\")\n",
    "    return intersection_cardinality/float(union_cardinality)\n",
    "\n",
    "\n",
    "def getFeature(w,embeddingmodel=model,emb=True,POS=True,Post=True,verbose=0):\n",
    "    emb=feature_vector[\"emb\"]\n",
    "    POS=feature_vector[\"POS\"]\n",
    "    Post=feature_vector[\"Suffix\"]\n",
    "    vect=[]\n",
    "    vect=np.asarray(vect)\n",
    "    if verbose>0:\n",
    "        print(feature_vector)\n",
    "    vect=np.append(vect,model[w])\n",
    "    vect=np.append(vect,getPos(w))\n",
    "    vect=np.append(vect,getPostfixVec(w,most_common_ending,dim=200))\n",
    "    return vect\n",
    "\n",
    "def getPrediction(vec,trained_model):\n",
    "    return trained_model.predict([vec])\n",
    "\n",
    "def get_r2_numpy_corrcoef(x, y):\n",
    "    return np.corrcoef(x, y)[0, 1]**2\n",
    "\n",
    "def getOwnR2(x,y):\n",
    "    x=np.asarray(x)\n",
    "    y=np.asarray(y)\n",
    "    x_mean=x.mean()\n",
    "    y_mean=y.mean()\n",
    "    defined_var=0\n",
    "    total_var=0\n",
    "    undefined_var=0\n",
    "    for i in range(len(y)):\n",
    "        undefined_var+= (x[i]-y[i])**2\n",
    "        defined_var += (y[i]-x_mean)**2\n",
    "        total_var += (x[i]-x_mean)**2\n",
    "        \n",
    "    r2_val=defined_var/total_var\n",
    "    r2_val2=1-(undefined_var/total_var)\n",
    "    return r2_val,r2_val2\n",
    "        \n",
    "\n",
    "def evalModel(listA,listB,own=False,):\n",
    "    r_score=r2_score(listA,listB)\n",
    "    p_score=pearsonr(listA,listB)\n",
    "    s_score=spearmanr(listA,listB)\n",
    "    np_score=get_r2_numpy_corrcoef(listA,listB)\n",
    "    mse_score=mean_squared_error(listA,listB)\n",
    "    r2_o,r2_o2=getOwnR2(listA,listB)\n",
    "    tau_score=kendalltau(listA,listB)\n",
    "    if own:\n",
    "        print(\"\\n########  OWN  ###########\\n\")\n",
    "        print(\" r2: \"+str(r2_o))\n",
    "        print(\"own r2_2: \"+str(r2_o2))\n",
    "    print(\"\\n######## CUSTOM ###########\\n\")\n",
    "    print(\"Pearson: \"+str(p_score))\n",
    "    print(\"Kendall: \"+str(tau_score))\n",
    "    print(\"Spearman: \"+str(s_score))\n",
    "    print(\"Pearson**2: \"+str(np_score))\n",
    "    print(\"R^2 Score: \"+str(r_score))\n",
    "    print(\"MSE: \"+str(mse_score))\n",
    "    print(\"\\n##########################\\n\")"
   ]
  },
  {
   "cell_type": "code",
   "execution_count": 10,
   "metadata": {
    "ExecuteTime": {
     "end_time": "2020-01-14T14:58:35.787273Z",
     "start_time": "2020-01-14T14:58:35.776897Z"
    }
   },
   "outputs": [],
   "source": [
    "def loadMT40K(model_para):\n",
    "        \n",
    "    words = []\n",
    "    \n",
    "    x=[]\n",
    "    y=[]\n",
    "    reg=[]\n",
    "    numKeyError=0\n",
    "    MT40KnoEmb=[]\n",
    "    \n",
    "    with open('cor.csv', 'r') as f:\n",
    "        header = f.readline()\n",
    "        for line in f.readlines():\n",
    "            words.append(line.strip().split(';'))\n",
    "         \n",
    "         \n",
    "    fout = open('concreteness_pos.txt', 'w')\n",
    "        \n",
    "    i=0\n",
    "    for w in words:\n",
    "        if int(w[1]) == 0:\n",
    "            ##################################\n",
    "\n",
    "            for wi in getAllPostfix(w[0]):\n",
    "\n",
    "                endingList.extend([wi])\n",
    "            porterList.append(getPorterRest(w[0]))\n",
    "            ########\n",
    "           \n",
    "\n",
    "            if w[1]==\"0\": #Bigramm=0 == only one word\n",
    "                corVal=w[3].replace(\",\",\".\") # make floats\n",
    "                corStd=w[4].replace(\",\",\".\")\n",
    "                try:            \n",
    "                    vect=getFeature(w[0])     \n",
    "                    x.append(np.asarray(vect))\n",
    "                    y.append(float(corVal))\n",
    "                except KeyError:\n",
    "                    numKeyError+=1\n",
    "                    MT40KnoEmb.append(w[0])\n",
    "\n",
    "    fout.close()\n",
    "    x=np.asarray(x)\n",
    "    y=np.asarray(y)\n",
    "    print(\"no Embedding: \"+str(numKeyError))\n",
    "    print(\"Vector Size: \",len(x))\n",
    "    return x, y"
   ]
  },
  {
   "cell_type": "markdown",
   "metadata": {},
   "source": [
    "# build FeatureVector"
   ]
  },
  {
   "cell_type": "code",
   "execution_count": 11,
   "metadata": {
    "ExecuteTime": {
     "end_time": "2020-01-14T15:03:38.717031Z",
     "start_time": "2020-01-14T14:58:50.683981Z"
    },
    "code_folding": []
   },
   "outputs": [
    {
     "name": "stdout",
     "output_type": "stream",
     "text": [
      "allWords:  39954\n",
      "skipped_content:  0\n",
      "no embedding:  1584\n",
      "\n",
      "MT40k: 35474\n",
      "MT40k all 1-phrase words:  37058\n",
      "MT40k 2-Phrase:  2896\n",
      "MT40k Union:  39954\n"
     ]
    },
    {
     "data": {
      "text/html": [
       "\n",
       "                <audio  controls=\"controls\" autoplay=\"autoplay\">\n",
       "                    <source src=\"data:audio/mpeg;base64,/+NAxAAAAAAAAAAAAEluZm8AAAAPAAAAIQAAG8AABwcHDw8PFxcXHx8fJiYmLi4uNjY2Pj4+RUVFTU1NVVVVXV1dZGRkbGxsdHR0fHx8g4ODi4uLk5OTm5uboqKiqqqqsrKyurq6wcHBycnJ0dHR2dnZ4ODg6Ojo8PDw+Pj4////AAAAOkxBTUUzLjkzIAE3AAAAAAAAAAACICQEzCEAAAAAABvAQmeDFQAAAAAAAAAAAAAAAAAAAAAAAAAAAAAAAAAAAAAAAAAAAAAAAAAAAP/jQMQAKlR2YDGToAIIAAEeB2sAonwOIRoeXzD8LPgYMKFvftwuYEFBcAWz/8iaYFBIIkQGWCf9sDdQAGMAGVEgZIELYXP/8zD0wxmDYwJQHAGW//t+LjK4N4BOhOCCZBzcv////nzQWWM2T5BCYKhoOWOMgn////5DBwB84lMd5MCtB2G5mbqaTn//////lkiaz6BACCMQRkwuoGuKXFKEUIgFo4gGXP//w/4Nny8Bmw4RBAMDFSAg1CJCoClMO2YzyOKaXMsb83D7vSV/IJj/40LEGSwcZpxD2KAAr2Uz2WGigvu5kmmbJuomCmt05fGNGZEIgblBQEFnwCVwN/CQEWkR6QEkScKRMsaouhfW5qdRWhUzLv7PqSNbor2UyklOnpVa6BsyDtWm6v132qSMT3+pT+1XVd63nan0/Zaa0m93Za/RWl7JVVHv/skWkTWyL0fMziR1aL0lH1FMpj+iYk8ZF4hxNlAvlIgSiLFciJBy+koJpM2IUYWtn+0ecNqO27dPbj763WOPPfeGApe8NjlRAkvWYskgaFNId0xU8//jQsQsK+xCmAtYqAGEwT45YaOASCQMHhkDAiAA0OIwoWhhkRJgjCbN0V0nUZGk0Y2JJqy7U1dvRUgvrWimkzVqda1a9aVkdHdST1Vf+ZF4fJEFbr66O1L3RWkznTybpqTWpn1rqN1oKujqVRWi6TGqme9alULM/sqsptdX+yTd9bmZ1ATaPZdUZ1OkZUsgUDUYAISSgsObclkkGWED13pTzpFOWYWrsM2H4jEeMS+ZC5TpeLheMi8iqus4SbpUjpwNTAwIUS4Rch4akBiInMQE/+NCxEA75HacM5ioAKwEAsAUewNkhQKAssJIsBiwgAsDCWFzkHNwMNEEEQFFlF4yFJF821rN0Sst6BmOSQimmR00ZNFGtFZBzdNNlozcpFA71qWqpTdRVZZulpp2cm0aklrUrKJBnqdZhQOGiRxdLW/WUzNaab1TqFUslQixmXFMZF5Sefpp2os7KT1kyde6l1JpLNzQ8rWsg5g93MHpIOTxmiojyXdMsi3UmSO8lymmWyHkX4zZoQ5ZRDolCIZQAggeRujAhtd3spRTUaFusb3/40LEFC1MYpWV2agAjuVUPyytbwtZbpeGZSSTfWu92RU60S+olyIEDFKBMCgYDBYGCggBosKgYIBAn8bSJiQQ2MzSi5ofSROqOotV/1rfWkkmarmSbqpWZdmdVkUdf1691e3rYxFZJNFH/Rb92WtkkKaEzNXQRosi+gldSls1r//a9/Xosq1NAusi116lOiTJoXjYmV9azxqRESgYjKkodUmxsZkFNCySK0UhqkkqJqAABBBGYbGQcSYofqTfY+PB+eOdNf/GW0NSVT1fX2O5wv/jQsQiKeRKkRTZ350x3re98/fO9/9YyTL3hfuGGGJDkIqYsdH2gZQKuCojSRB/efezuVe4DpN1VmudX1o1nScpqHjkqx5zWKnEZ7TXp1vSvf6W6HC0Ne7o85tbbmPnohVBoOGGqkmtD3PdjWU5p+iX0p6KmlN+jcueru/1q6WMx88cHR4NhUuqKfcCls+80qN4igwoiwAHCIAbkUCYMTscTLzkAEee2ZHj6ZgiUjA1J4vFWrd2ZCpKyTJmpsgK6GzBakJAAaiwCkwH1KAAgRZE/+NCxD4uLGKhvqMVbR1zpWZVxUtgfdOk11rUPTvZMzvTAve2i4qiMJA2PkydEgqWqzPJLdNWYMtyHsio/3//zhXKP/zzP+YTKJQlg2DYUAwK5Y0oLxEEZKx5yyxBJCYru1Wf///Oz/Kl//eYtBu0qceSE4xFoQzBiGxLceiSKymDAhEgVR8atQAsmgAxG/c8YFQw8s8/UNpP3//u/3jnaosMMKk9bpof79i7+fMefz/3vu9TPHvdF4EnDEgsxKNMDRjHwBYymtJnAlJds/jqt6L/40LESSl8XpGy2p+dsdSbW9r0OKmmpNLMd6qfdGSzGGLT9lat76L/1F4ICv9amt7LnGu9jkj4fJz2P99DprqrH5ub/NsunZkszGlC/PamqsREyqRUMm1IxdCZ53SbEeLDVuWVOuLYrowKAAU8JADLhCpa+JSiHLE5hLF3YYc/v09p4ITFH4pO53a8klb1rQat6aaZcUTA5A5AggF/BQAWkAAxwP4YAGECyCfIuT4405ggYKQMGQemmmZm5mbmhcNEG1K0EFKNEDRMny+X0000y//jQsRnK3xColVYoAHlw0oIMgpVqqCqnrvXr/9ZiSyvrff1INUlUtOumnQqVZ1688yCv7/r/1Mh/+ykKCFT9mUggtbr1ymM8O83WyCjA0L5fPwsAYBOBGQpgIWFLSVhRhQxoDGFCI0lDIXUoXLla/FXM5suzCLTbNyhmUXZTZjOFBNUdbks7LomIRwxsX9szWXjAAPL3ljEmKhEYkbo6AEGYC02HQVRID5iTUlk7o4hUMQ9Ul2n1d2LSqmktyzbwnqmG5+GJTU5yI0sq1X3Sf83/+NCxH1EBHaYI5jYADst+U0mGf2dbryut239udpt639qghn9UOPP5//WkWeVe5Zz5r+3ZZ/btvKzdxvYfzs3++1cOdq1cae1l9fmP4XruVTDHmFnVJPa5n+Ou/cq2v1DUKnvqwDKL9neGf/839/7kgl1NavxalqVd47sa3V53me7tJqgmufaaC1pzoGZ08X/7+RR0X8fZXf/7lz8xGZ2HQwOyShKjn5IaNPdN5WFuu9aefFy0zZZUpQLiEKFQyGIRE8ThqRBzKmsxPFzTIekTQr/40LEMTgcZpwDmKgBHAwiPSdJtEQnAw8FSIHSNEJADRkBjcfinD7NDYvAZnJAhKQ5mNgNlBEKAgol2eMCXJtIxQdi2WEjN1ENrNVKSMaRoyCd0U7LSPso2QUmpBVaBqkVruw+CytKkqrWXhpJrdBbtWkxLM6nW1zJJlIHKNS2cwUtnMZkkivqpnqlLU55booMqc6JbstJB45FGt6b5hqmK6AurKT22SRrey5FysWzYwRN+JIpErGKXKKIoioIAKcQRAIdlvofJRrBEy8HugC48P/jQsQUMMx2qDWYoAA9l6SWI/YvloqHi6XUSZRY1rVZjpprUYGB4DDrzeQAcgDHDZkUwxEDggG5RifnrYDiqDEiA4yLm4HIHhoI9F5IgRmlTucKhgyVE8TpOsjUifTYyZ01MTjOhZ8ullD1uhoq5k6D719ZX0r/WTm2ik606bXW9vQQT9nUe0CwTxRQJ5aRw+66k/ep+3JXvWuhUyb1KeR6kvqRqNUHWYGLSbKzuyR3rM0zcvm/I82MpMjHVSqQAAUwoAE4AFgitrvlGoLKNSRj/+NCxBQxDGakX5igAZNt69dfG3udzzUo2QRNCsbGRMugsvKTlU81BMojmgYEOpi8NcAYROGo6gEpgNaVDnEQZnAfKGCQ9bLA9xUN5KxskbIIVUnL+ju7JmClmcvfzYqOqmi+TqSmZI2PVfqJ1lvfqqInV/nSJLqN2UkyBgiarrs6TKQQT0qlJKdNM0c6ao2UlmL+yV6bvWR08mY3s/zHrUWLkZ/7PqWp1jOEPJMyJ0nRXeS5EjMni2e5JIuEqgCwAABFcJWCOhJtEgyJxCtLJo7/40LEEzBUdqD1mKgAxeOrigp5tV+zOVU3NzNBMwPLc35oqo6vusfYGBRStaDAYWD2WyKAYJHwGbRuCgGIiemIICwINIslSA04HxPpOmqzMzRZanUXFL6pcLjoIrNTZI12qY6XD6CaZmkmdNc4yTdbcxHjdT/OFFn/1Fay6aTrakyaFSdkGRXZdWhUitBNE+W3M9nKmtSv1fqFM/9S/SSQKVBNT01VKUqndy+Zi4DzrocVFFqzLjELbOZnKgLqA1KUASBh4hHSodWKPhFIMat1zf/jQsQVMNR2qM2YoAC9rHX9PJrWxQebHFVlXm6lcoMAurUZEyHRgWcVnRcoXmBxxYg46bJKAOyDnkNLxFiBAhIiCSLUifL6aqkzpUZkjiaKRlqczNzRq9iqxie7OWCur1zTW1dI0Wy0VddMemqobVHS4zXZ6zMzb7LMq3LJOlhZOumtA1cuoupaJkbM/a3bZS+qggZk2i311rS1MampdQ/6jhp5dZZiTZbTLlXIIKikOaSpd5cHeZlYnCWqAATggAACKAaAGWkUBwZOVPcnY8by/+NCxBUw/GadlZioAbGXnbirXl+XLeLqSeb0WLiKj52qXqtaQucBgM1Ij4AwSRGUYCbQDRGBk0wAWAJYRMEwNLCcRoO9RxMDRYjFLDgPuhN0Xatt+6Jkg1JIy66qJ3WpJSKBsx/QoJNdBTKkVQ3rVXWNJtSk/jeaqpqRmdQPUa0qlutk0adkWQc0TQVa6CnQutHs2kZGvruR/3Uuy3SamdpE77bWp2qXSHUMuQJzxDSe4lIuskYI8ONSDxEAACIYAAElwsXARErYyomwyoaDOND/40LEFTC8dqYdmKAAnQrPtDtzu/jc+6SSDmYy5BzQq8ru6ReMDQ4tcmgMYcsbjWAKZGpPjsFDgIVgbSUHykTQdwNlPFmILQQA09gFBBFyiLLN2dJdV1U9yBldbNQrqQM2prJta0zx9kEz+xg00t3zI32RVbuTzKb2qY01tug9NJ9mvpmCpso6itTrTZBlqRZFN7q1e3ev2I/+1bs6Xy69TVnU9k7VLQMCwWUFOtXHON16XHkmCcHPGXHGCQGhemcDcBLskZXMyKN6Tcu5EIMmBf/jQsQWKyxmoMvPoADQ1zjPW5k1sooanSKRNGZocdIpFU+bu45xBjcRyF0QCBIDiYGCiA7gAsDICNE4fJ9MvG6kLHTUxUpi4i61Vavu1KtFJ1t6jc6m6zdmOXRpOk7IOt1KV9tvoKYtf7qS9JXWpdta0VIPq2pVrV/o0LXUn/rpK/+ZoomutvzNBI2d6lqTUTZYMi0oqrZRFSwZsYG5dNB/NUj9CaRQArMRjuPXs159HHtvPGUUksU+6tPKX6p4JkHaFZa+dQQWZlBhza0nOoky/+NCxC0r/F6YC1moAUAIIRILhwMOicDDisAgGwDh0oh6JTKSClLNklGC0zdI0Iq1ZdqSqdKutFBF2ZnrlhKp0bXU6bOnU/Rsy6Pv/VMkjpCPvrZdfo9BSajWgZGynRSdazNu1I+tlp6TnNFbVucQZqlO1Fuuy/WXVX/ayBst0funKgjMqJmKFR50kXSpsZNIAIACiEACi5O5F0jUMtHtMbd9qqr76rqnOQPS047xxnSLE2ZkCMi4VdNKkeJBNbmBdROgYBMJuQ8mwt2BgIKmZFT/40LEQTw8dpxNmKgAhwEAaAUHANGicBoHC2tRAxeYgcDBYyWGXFxgZmGIEgKLlNi+Q0wQR0T5IjLupAoE+TxEnXSLK0ufUgo4aG7s1RcIaV1rragcWySDVIFpmRWh9Md+kpvlEsLrdTozN6N1oGi7KYwJg1mDLc3QWaaKRsfWXbuiyNmqZbVHrKRZaiGLN1IKXutM8XKkTOoiSkmU60VqYmSubPHyTxvPkvTZy9xxEUPEuUipxjioWDIiAqMk5AHI87QRjJbpp1qRVHSLsS7PGv/jQsQUK0RmlPPYqAD9pZVNX/5U7lNW9EYTLMf+h1Ok6JJKHwTZMDnFQQXAw4ggMJiEAIWCTjJFY4Q88eP0HNT6FSd3+rZa1r2M0XNUnQZE6gprrUtJk2RQPvr1fZvr366IodNHX69f/1puybooo6CnapbKdK3q2/q9Xq9mbqSQMno3q1ol00Mi8fSS6KSA6Q5QjDcXKZJoJJmZETQvGKBeGeJIoloEbwIANCFaBhwNEji9uxhDaN/7z/DdqGqWUxKm3l2U2+QvL/7/55Z7/Hf4/+NCxCsovGaVtNjVjHJj6saZZE1TvYWiMuvDZwUaFFou9yni1ekw1SVc/Jxo4LfYvOnlEmdcKDkyM0V38AjRN41U0M8jQ5bOqnxHbwub/8y6/8xT0U8gMs+eqPWh9c9O1e/zum3/R1b/VEc8xD9UU8lKCuAHElxAFic6epGYw/QkH4rk7kh8kgAXQYQaFUeAocIqZGqJABXno10TEmjEvOiYS+aF0nlMyq2r/aYmCJEg+ES4NXiCIGHFAFygbrjBPHFy1055p9bi5DUnLiZt35r/40LETC1EXqW+oxVtxdkzM9A381w+D0SzJOqMYjZK49T5ehb2aZSZsmn//9VOH44X/5xb+9TUESKw/ESUFYQqKQD4VSAuqHHsahcqSFEr6G/t/6MmUbcx+36zDzDCDRypAPyoX4yiCBSRHKwqishIWIiMVR8LDBiAASRCFFgQFlGEyqOx6XDQbe/WWXP1TyuUVd5S79V6fLG/Yu3LvKlnueW8rF23YcNpjfrBGEAJhQ0YG8nOrAcTFmmYxeErXlFJnq7KPmhqTExIPyQjzCOYav/jQsRbLMRWkaran51c04siocQHmkJBIUYu2+ay2Odqp/b7qf5phuSBdgpe/u9dz9WU9GORyE9e6u+jWZWu/XtzmTRHT7G636SYm6V5yTjmGRKyOcehpOcorW2sW39e9gOSenxDAAd9JADb/hFx0IYbqpP1pA1P68XfRZIKHzBAp9W6qGixG0zPc7CqKlpK8rdChjF+ETs1K38k8VlUByiKw9AMcrs1acnqYQAGLF5wQoGBj/gYDQyQSIsg9CWTh1mUyYlknA0RFabiiVUbRIUp/+NCxGwt5CKeVNpHbJ40msj1lEvCUUvsTV1v89xun3L+5p7zKcfjBQE75WT/y/2KkUI0NczkT7c/OHEJPsi2yktnlDYqX9dC6d08vrfOK/zvDyXgEyqsiWqEsliCoYBxXjT7PNQN2aRBj9OGu5gUKkzXrFN2gz1W7/aavMw7clPNYZUlHcv0tnU1l2ljErehAqHzFQoObABXKXRKJTTrCSseu1HO4cfbEoW5bqZqu9s/FM/n6/31V3b2Rbu4ayI77jfz8pTdu3waDJ1f11y/4uv/40LEeCmz9ogi4sd1rMuW+5nFdSj8RpD/OFToIolJdr6rMiDImZkRFFsStKU+nmfyCLzYNyk7j3jEymoAKAdprs2KGU31LWuT4CBOvjFXKnopmn1fkk997f1bP9t5Wu3fw7jvG7e7b52VzkrhwAhAHEIwqvDgANAwIhsRBUoG9aSc/KzE7LfcE2TE93RZdpMu82hTIk7b0yXdSMhGn+Zt7mVHVLjZ1WRl8DAZrVEi4W9KioubcO4iLyoRJ2sTpFkNWSR40YhokAX2V+rYp756f//jQsSVKjvagWLiB3WZqOER3aaY4ZejZ9ScLHGW7GTjdwAikEFc9IqEwJxLlg76QKpWj1OfT0lLE5irYp+xh145JnfiFHAkTjUgfeVSZ/5LPP5Acahx24aeRyHpc9YjG1fFrASFM2AOCgOHvMOAGiCK7dmgM7giFQJE6aKQ3NDpOdaMEaxIRnHEC7RITrCxOWFRgHk+5Go3nUVnSpphKM1DpGJ8l0ldSjsMycMmYUQlieCpuC6TjZvGJrZJdAxPWG5dpnJMtOxxFUxAM0MuKOyz/+NCxLA3FGKJitJHkHWoTzME+/mmZRTSnL2QHqLbGOFZvIT6uiB6yV0BshAxSOOjzWsVNLTRTKmNFUB1UAFT6tYXwPXYTJ7NNJV4/l3msamVz/uT0zSW7OOPeVqfmX9xwyxyzs1sMqWpblvvW10VAgPc+8UIYmpW1tW1l06bb33LYiJj/qanpr2Wo+LtM5xH6QGQmV2YGX//zE2YNeQBWPQglSVbco8d9w3+OWTXPd/4/wyY0ymZnV6uZ2IHJ5JaxqpJ6kbF2QswZQyKFHC+xn7/40LElyk75pGk0sd116R0MS4nzQ6m/776t84GkOK3iJYBwLDJ/DOcBQ7PWfeWuXrPPuVa32s957w5atYfvfOa1zDPmFv94U7KUSQTVPmea7QLwvdlif9a2z5Kf7PI7efK3c7OeDWsyWEzvNUz71jeHg0fA0bkh9qZt77LCcMaibZICaiolg7AWi2Im6+b403uZ8nsvkZm5WnlSQZ/hXcOVPzzWORFZcskwaQ7nmkNt4q5++rjEemCT2AZL6eq3e7DBgLfVQVEQ+H4dELIyYtWJ//jQsS2Klu+gODSR3XhlkUboHCd5V8+7nMLe6SWWb8rjcrobedqkpOZ9sbpbuf8ww7qpSUlPF1lsFAlUziBK1a4Jn6UQThkM2Iss37OWfvtxouCfMLXIrpnSa7VkUo2xXUHOhjhnN/hyUlQ/QI5KaNmrlXIs2MofF4BKpxHuDQ/+mZEuKMYKcS7bRyQhZWvCY0cjNvEhjPuKUifM4akQcbN2mVhcEVSGyw4LNkzCtg+bgzVc5iFWAwJ42aoQCjLhkilrOiw1Yrq1H1Yay2Cl3Ne/+NCxNApfBKBAtJHYYeglL1iUrayoC02Al3MufqJOUzpxnhVKxF+XiWFTFb1pQFCgcLCEOMPJThpEcizsl8yNsNZFkbQYBgINU1fRhrEXdpGtNed4ug1MnmTEkk2hKBsiMjIGyMQRFPWBBLJ1ChCVGYnIlCeHpWViSsEq8LhKJyGphEkvKZ614iUrCURiCFKSN1p50qqBCNmTkxoSjF2BcSicUwOl5Idmp8STwQi0XQbF9QTh5HUrKjm5iwJSMkk1MZLWCUWh5Ckeh2hMm3Zlr3/40LE7lBUXjwM1tidkxjHEdS8IxaLoNXWh5ClIJR9c5JK4ug1OAPJzV4xLo+lZVVqMqiS2JJNiOiUTi6IIlLwaiKeAkOyGCK89ZWsCEvEkmsu6zQlIIgomimWbbzR8ylqTEFNRTMuOTOqqqqqqqqqqqqqqqqqqqqqqqqqqqqqqqqqqqqqqqqqqqqqqqqqqqqqqqqqqqpMQU1FMy45M6qqqqqqqqqqqqqqqqqqqqqqqqqqqqqqqqqqqqqqqqqqqqqqqqqqqqqqqqqqqqqqqqqqqv/jQsRwAAADSAAAAACqqqqqqqqqqqqqqqqqqqqqqqqqqqqqqqqqqqqqqqqqqqqqqqqqqqqqqqqqqqqqqqqqqqqqqqqqqqqqqqqqqqqqqqqqqqqqqqqqqqqqqqqqqqqqqqqqqqqqqqqqqqqqqqqqqqqqqqqqqqqqqqqqqqqqqqqqqqqqqqqqqqqqqqqqqqqqqqqqqqqqqqqqqqqqqqqqqqqqqqqqqqqqqqqqqqqqqqqqqqqqqqqqqqqqqqqqqqqqqqqqqqqqqqqqqqqqqqqqqqqq\" type=\"audio/mpeg\" />\n",
       "                    Your browser does not support the audio element.\n",
       "                </audio>\n",
       "              "
      ],
      "text/plain": [
       "<IPython.lib.display.Audio object>"
      ]
     },
     "execution_count": 11,
     "metadata": {},
     "output_type": "execute_result"
    }
   ],
   "source": [
    "words = []\n",
    "\n",
    "vectorDic={}\n",
    "concDic={}\n",
    "dat=[]\n",
    "tar=[]\n",
    "reg=[]\n",
    "std=[]\n",
    "tarstd=[]\n",
    "numKeyError=0\n",
    "raw=[]\n",
    "MT40K=[]\n",
    "MT40K_allWords=[]\n",
    "MT40KnoEmb=[]\n",
    "MT40K_twophrase=[]\n",
    "\n",
    "with open('cor.csv', 'r') as f:\n",
    "    header = f.readline()\n",
    "    for line in f.readlines():\n",
    "        words.append(line.strip().split(';'))\n",
    "     \n",
    "     \n",
    "fout = open('concreteness_pos.txt', 'w')\n",
    "\n",
    "######################\n",
    "CP_wordlist=[]\n",
    "TWP_wordlist=[]\n",
    "CPExt_wordlist=[]\n",
    "\n",
    "skipped_content=0\n",
    "for w in words:\n",
    "    if int(w[1]) == 0:\n",
    "        MT40K_allWords.append(w[0])\n",
    "    else:\n",
    "        MT40K_twophrase.append(w[0])\n",
    "    if w[0] in CP_wordlist or w[0] in TWP_wordlist or w[0] in CPExt_wordlist:\n",
    "        skipped_content+=1\n",
    "        continue\n",
    "    if int(w[1]) == 0:\n",
    "        posfreqs = {}\n",
    "        for syns in wn.synsets(w[0]):\n",
    "            p = syns.pos()\n",
    "            count = posfreqs.get(p,0)\n",
    "            for l in syns.lemmas():\n",
    "                count += l.count()\n",
    "            posfreqs[p] = count\n",
    "        posfreqs = sorted(posfreqs.items(),key = lambda x:x[1],reverse = True)\n",
    "        if len(posfreqs) > 0:\n",
    "            pos = posfreqs[0][0]\n",
    "        else:\n",
    "            tags = nltk.pos_tag([w[0]])\n",
    "            tag = tags[0][1]\n",
    "            if tag[0] == 'R':\n",
    "                pos = 'r'\n",
    "            elif tag[0] == 'J':\n",
    "                pos = 'a'\n",
    "            elif tag[0] == 'V':\n",
    "                pos = 'v'\n",
    "            elif tag == 'IN':\n",
    "                pos = 'p'\n",
    "            else:\n",
    "                pos = 'n'\n",
    "        \n",
    "        w1 = [w[0],pos]+w[1:]\n",
    "        \n",
    "        for wi in getAllPostfix(w[0]):\n",
    "\n",
    "            endingList.extend([wi])\n",
    "        porterList.append(getPorterRest(w[0]))\n",
    "        ########\n",
    "              \n",
    "        if w1[2]==\"0\": #Bigramm=0 == only one word\n",
    "            corVal=w1[3].replace(\",\",\".\") # make floats\n",
    "            corStd=w1[4].replace(\",\",\".\")\n",
    "            try:\n",
    "            \n",
    "                #vectorDic[w1[0]]=model[w1[0]]\n",
    "                concDic[w1[0]]=corVal\n",
    "                \n",
    "                #Feature Vector\n",
    "                vect=getFeature(w1[0],emb=True,POS=True,Post=True)\n",
    "                              \n",
    "                #Save for Eval\n",
    "                MT40K.append((w1[0],getPos(w1[0]),corVal,corStd)) #1=word,2=pos,3=conc,4=std\n",
    "\n",
    "                \n",
    "                dat.append(np.asarray(vect))\n",
    "                tar.append(float(corVal))\n",
    "                std.append(float(corStd))\n",
    "                tarstd.append([float(corVal),float(corStd)])\n",
    "                raw.append(w1)\n",
    "            except KeyError:\n",
    "                numKeyError+=1\n",
    "                MT40KnoEmb.append(w1[0])               \n",
    "                \n",
    "fout.close()\n",
    "dat=np.asarray(dat)\n",
    "tar=np.asarray(tar)\n",
    "std=np.asarray(std)\n",
    "print(\"allWords: \",len(words))\n",
    "print(\"skipped_content: \",skipped_content)\n",
    "print(\"no embedding: \",numKeyError)\n",
    "print(\"\\nMT40k:\",len(MT40K)) \n",
    "print(\"MT40k all 1-phrase words: \",len(MT40K_allWords))\n",
    "print(\"MT40k 2-Phrase: \",len(MT40K_twophrase))\n",
    "print(\"MT40k Union: \",len(MT40K_allWords)+len(MT40K_twophrase))\n",
    "\n",
    "\n",
    "Audio(sound_file, autoplay=True)"
   ]
  },
  {
   "cell_type": "code",
   "execution_count": 12,
   "metadata": {
    "ExecuteTime": {
     "end_time": "2020-01-15T09:11:16.246408Z",
     "start_time": "2020-01-15T09:11:16.172004Z"
    }
   },
   "outputs": [],
   "source": [
    "c_p =Counter(porterList).most_common(200)\n",
    "c_e =Counter(endingList).most_common(200)\n",
    "\n",
    "most_common_porter=[]\n",
    "most_common_ending=[]\n",
    "for t in c_p:\n",
    "    most_common_porter.append(t[0])\n",
    "for t in c_e:\n",
    "    most_common_ending.append(t[0])\n",
    "    \n",
    "with open('most_common_porter.pkl', 'wb') as f:\n",
    "    pickle.dump(most_common_porter, f)\n",
    "with open('most_common_ending.pkl', 'wb') as f:\n",
    "    pickle.dump(most_common_ending, f)\n",
    "\n"
   ]
  },
  {
   "cell_type": "markdown",
   "metadata": {},
   "source": [
    "# Eval Training"
   ]
  },
  {
   "cell_type": "markdown",
   "metadata": {},
   "source": [
    "# Pearson CV"
   ]
  },
  {
   "cell_type": "code",
   "execution_count": 16,
   "metadata": {},
   "outputs": [
    {
     "name": "stderr",
     "output_type": "stream",
     "text": [
      "[Parallel(n_jobs=-1)]: Using backend LokyBackend with 16 concurrent workers.\n",
      "[Parallel(n_jobs=-1)]: Done   2 out of   8 | elapsed: 11.7min remaining: 35.1min\n",
      "[Parallel(n_jobs=-1)]: Done   8 out of   8 | elapsed: 11.7min finished\n"
     ]
    },
    {
     "name": "stdout",
     "output_type": "stream",
     "text": [
      "[0.87979672 0.87239161 0.86818968 0.88435498 0.86151988 0.86816019\n",
      " 0.85581788 0.87858561]\n",
      "Pearson : 0.8711 (+/- 0.0180)\n"
     ]
    },
    {
     "data": {
      "text/html": [
       "\n",
       "                <audio  controls=\"controls\" autoplay=\"autoplay\">\n",
       "                    <source src=\"data:audio/mpeg;base64,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\" type=\"audio/mpeg\" />\n",
       "                    Your browser does not support the audio element.\n",
       "                </audio>\n",
       "              "
      ],
      "text/plain": [
       "<IPython.lib.display.Audio object>"
      ]
     },
     "execution_count": 16,
     "metadata": {},
     "output_type": "execute_result"
    }
   ],
   "source": [
    "reg = svm.SVR(gamma=0.01,C=1.0,kernel='rbf',verbose=2)\n",
    "\n",
    "def corr(y, y_pred, **kwargs):\n",
    "    ret=np.corrcoef(y, y_pred)[0, 1]#**2\n",
    "    return ret\n",
    "\n",
    "scor=make_scorer(corr, greater_is_better=True, needs_proba=False, needs_threshold=False)\n",
    "\n",
    "score=cross_val_score(reg,  dat, tar, cv=8,n_jobs=-1,scoring=scor,verbose=2)\n",
    "\n",
    "\n",
    "print(score)\n",
    "print(\"Pearson : %0.4f (+/- %0.4f)\" % (score.mean(), score.std() * 2))\n",
    "Audio(sound_file, autoplay=True)"
   ]
  },
  {
   "cell_type": "markdown",
   "metadata": {},
   "source": [
    "# Spearman CV"
   ]
  },
  {
   "cell_type": "code",
   "execution_count": 17,
   "metadata": {
    "ExecuteTime": {
     "end_time": "2019-03-14T10:20:02.377182Z",
     "start_time": "2019-03-14T09:02:11.518586Z"
    }
   },
   "outputs": [
    {
     "name": "stderr",
     "output_type": "stream",
     "text": [
      "[Parallel(n_jobs=-1)]: Using backend LokyBackend with 16 concurrent workers.\n",
      "[Parallel(n_jobs=-1)]: Done   2 out of   8 | elapsed: 11.5min remaining: 34.6min\n",
      "[Parallel(n_jobs=-1)]: Done   8 out of   8 | elapsed: 11.6min finished\n"
     ]
    },
    {
     "name": "stdout",
     "output_type": "stream",
     "text": [
      "[0.88147282 0.85678241 0.86247198 0.87368007 0.8545626  0.85830122\n",
      " 0.86187818 0.86026379]\n",
      "Tau : 0.8637 (+/- 0.0172)\n"
     ]
    }
   ],
   "source": [
    "reg = svm.SVR(gamma=0.01,C=1.0,kernel='rbf',verbose=0)\n",
    "\n",
    "def corrTau(y, y_pred, **kwargs):\n",
    "    ret=s_score=spearmanr(y,y_pred).correlation\n",
    "    #ret=kendalltau(y,y_pred).correlation\n",
    "    return ret\n",
    "\n",
    "scorTau=make_scorer(corrTau, greater_is_better=True, needs_proba=False, needs_threshold=False)\n",
    "\n",
    "score=cross_val_score(reg,  dat, tar, cv=8,n_jobs=-1,scoring=scorTau,verbose=2)\n",
    "\n",
    "\n",
    "print(score)\n",
    "print(\"Tau : %0.4f (+/- %0.4f)\" % (score.mean(), score.std() * 2))"
   ]
  },
  {
   "cell_type": "code",
   "execution_count": 18,
   "metadata": {},
   "outputs": [
    {
     "data": {
      "text/html": [
       "\n",
       "                <audio  controls=\"controls\" autoplay=\"autoplay\">\n",
       "                    <source src=\"data:audio/mpeg;base64,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\" type=\"audio/mpeg\" />\n",
       "                    Your browser does not support the audio element.\n",
       "                </audio>\n",
       "              "
      ],
      "text/plain": [
       "<IPython.lib.display.Audio object>"
      ]
     },
     "execution_count": 18,
     "metadata": {},
     "output_type": "execute_result"
    }
   ],
   "source": [
    "Audio(sound_file, autoplay=True)"
   ]
  },
  {
   "cell_type": "markdown",
   "metadata": {},
   "source": [
    "# Train the final model on all data."
   ]
  },
  {
   "cell_type": "code",
   "execution_count": 19,
   "metadata": {},
   "outputs": [
    {
     "name": "stdout",
     "output_type": "stream",
     "text": [
      "Start Training\n",
      "[LibSVM]finished training\n"
     ]
    },
    {
     "data": {
      "text/html": [
       "\n",
       "                <audio  controls=\"controls\" autoplay=\"autoplay\">\n",
       "                    <source src=\"data:audio/mpeg;base64,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\" type=\"audio/mpeg\" />\n",
       "                    Your browser does not support the audio element.\n",
       "                </audio>\n",
       "              "
      ],
      "text/plain": [
       "<IPython.lib.display.Audio object>"
      ]
     },
     "execution_count": 19,
     "metadata": {},
     "output_type": "execute_result"
    }
   ],
   "source": [
    "print(\"Start Training\")\n",
    "reg = svm.SVR(gamma=0.01,C=1.0,kernel='rbf',verbose=10)\n",
    "\n",
    "reg.fit(dat,tar)\n",
    "print(\"Finished training\")\n",
    "\n",
    "#save model\n",
    "pickle.dump(reg, open(\"Concreteness.model\", 'wb'))\n",
    "\n",
    "Audio(sound_file, autoplay=True)"
   ]
  },
  {
   "cell_type": "code",
   "execution_count": null,
   "metadata": {},
   "outputs": [],
   "source": []
  }
 ],
 "metadata": {
  "kernelspec": {
   "display_name": "Python 3",
   "language": "python",
   "name": "python3"
  },
  "language_info": {
   "codemirror_mode": {
    "name": "ipython",
    "version": 3
   },
   "file_extension": ".py",
   "mimetype": "text/x-python",
   "name": "python",
   "nbconvert_exporter": "python",
   "pygments_lexer": "ipython3",
   "version": "3.8.8"
  },
  "varInspector": {
   "cols": {
    "lenName": 16,
    "lenType": 16,
    "lenVar": 40
   },
   "kernels_config": {
    "python": {
     "delete_cmd_postfix": "",
     "delete_cmd_prefix": "del ",
     "library": "var_list.py",
     "varRefreshCmd": "print(var_dic_list())"
    },
    "r": {
     "delete_cmd_postfix": ") ",
     "delete_cmd_prefix": "rm(",
     "library": "var_list.r",
     "varRefreshCmd": "cat(var_dic_list()) "
    }
   },
   "types_to_exclude": [
    "module",
    "function",
    "builtin_function_or_method",
    "instance",
    "_Feature"
   ],
   "window_display": false
  }
 },
 "nbformat": 4,
 "nbformat_minor": 2
}
